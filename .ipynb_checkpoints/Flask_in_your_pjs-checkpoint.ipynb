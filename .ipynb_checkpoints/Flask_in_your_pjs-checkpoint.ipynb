{
 "cells": [
  {
   "cell_type": "markdown",
   "metadata": {},
   "source": [
    "# Learn flask in your pjs\n",
    "\n",
    "A class for PyLadies remote by [Katie Cunningham](https://twitter.com/kcunning?lang=de)(@akcunning)\n",
    "\n",
    "[YouTube: Learn Flask in your pjs - part1](https://www.youtube.com/watch?v=GjFt-dKlnbE&ebc=ANyPxKrZO4f2Ba54EC5Hkx38EQHt3VH-CezGADKnfLsbzWxADm4T-O6DcHvlIwCOO8VnZdXX6ShbuvN_tr1QR0g-sYbEF1J2ow)\n"
   ]
  },
  {
   "cell_type": "markdown",
   "metadata": {},
   "source": [
    "Code on Github: \n",
    "[flask-class-c9](https://github.com/kcunning/flask-class-c9.git)\n",
    "\n",
    "```git clone https://github.com/kcunning/flask-class-c9.git```\n",
    "\n",
    "```\n",
    "git reset --hard       # use this if you looked around and changed something, but do not want to keep it \n",
    "git checkout master    # goes back to the newest state\n",
    "git checkout <123456>  # goes back to some point in the past\n",
    "git clean -fd          # cleans folders that are not used at this point in the past \n",
    "\n",
    "```\n",
    "\n",
    "1.  git checkout 19357a7 - basic app\n",
    "2.  git checkout b250bd1 - app structured in folders \n",
    "3.  git checkout c6bee92 - using html templates\n",
    "4.  git checkout cc06a60 - adding max view\n",
    "5.  git checkout 9bb38e1 - Starting to make a game, template loop\n",
    "6.  git checkout 0549b70 - Creating base template\n",
    "7.  git checkout 49efede - Use Bootstrap, base template \n",
    "8.  git checkout f975a12 - Make blocks in base and other html \n",
    "9.  git checkout 6886db  - Requirements txt\n",
    "10. git checkout dad79c  - Form to nowhere\n",
    "11. git checkout b441299 - Let's make the form do anything\n",
    "11. git checkout\n",
    "11. git checkout\n",
    "\n",
    "\n",
    "\n",
    "\n"
   ]
  },
  {
   "cell_type": "markdown",
   "metadata": {
    "collapsed": true
   },
   "source": [
    "## 1. Very simple Flask App"
   ]
  },
  {
   "cell_type": "markdown",
   "metadata": {},
   "source": [
    "__run.py__"
   ]
  },
  {
   "cell_type": "markdown",
   "metadata": {
    "collapsed": true
   },
   "source": [
    "```\n",
    "import os\n",
    "\n",
    "from flask import Flask\n",
    "app = Flask(__name__)\n",
    "\n",
    "@app.route(\"/\")\n",
    "def hello():\n",
    "    return \"Hello World!\"\n",
    "\n",
    "if __name__ == \"__main__\":\n",
    "    # The next two lines are JUST for c9\n",
    "    port = int(os.getenv('PORT', 8080))\n",
    "    host = os.getenv('IP', '0.0.0.0')\n",
    "    # If you're running on your local, you can nuke stuff in the parens: app.run()\n",
    "    app.run(port=port, host=host)```"
   ]
  },
  {
   "cell_type": "markdown",
   "metadata": {
    "collapsed": true
   },
   "source": [
    "## 2. Templates and Variables"
   ]
  },
  {
   "cell_type": "markdown",
   "metadata": {},
   "source": [
    "### 1. We structure the app in folders: "
   ]
  },
  {
   "cell_type": "markdown",
   "metadata": {},
   "source": [
    "__run.py__"
   ]
  },
  {
   "cell_type": "markdown",
   "metadata": {},
   "source": [
    "```\n",
    "import os\n",
    "from app import app   # We are now using a folder to hold the app, the app is importet here\n",
    "\n",
    "if __name__ == \"__main__\":\n",
    "# Host and port are unique to Cloud 9. You don't need these on your local,\n",
    "# or if using other services\n",
    "app.run(\n",
    "    host=os.getenv('IP', '0.0.0.0'),\n",
    "    port=int(os.getenv('PORT', 8080)),\n",
    "    debug=True)```"
   ]
  },
  {
   "cell_type": "markdown",
   "metadata": {},
   "source": [
    "/app \n",
    ".\n",
    "├── __init__.py\n",
    "└── views.py```\n"
   ]
  },
  {
   "cell_type": "markdown",
   "metadata": {},
   "source": [
    "__ /app /__init__.py__"
   ]
  },
  {
   "cell_type": "markdown",
   "metadata": {},
   "source": [
    "```\n",
    "from flask import Flask\n",
    "\n",
    "app = Flask(__name__)\n",
    "from app import views```"
   ]
  },
  {
   "cell_type": "markdown",
   "metadata": {},
   "source": [
    "__ /app / views.py__"
   ]
  },
  {
   "cell_type": "markdown",
   "metadata": {},
   "source": [
    "``` \n",
    "from app import app\n",
    " \n",
    "@app.route('/')\n",
    "def lucky_static():\n",
    "    return \"Your lucky number is 7\"\n",
    "```"
   ]
  },
  {
   "cell_type": "markdown",
   "metadata": {},
   "source": [
    "This is basically the same Hello World app, but now the files are better structured.  "
   ]
  },
  {
   "cell_type": "markdown",
   "metadata": {},
   "source": [
    "### 2. We use a simple template "
   ]
  },
  {
   "cell_type": "markdown",
   "metadata": {},
   "source": [
    "! Double-klick to see the input\n",
    "\n",
    "/app.py \n",
    ".\n",
    "├── __init__.py\n",
    "├── __pycache__\n",
    "│   ├── __init__.cpython-35.pyc\n",
    "│   └── views.cpython-35.pyc\n",
    "├── templates\n",
    "│   └── simple.html\n",
    "└── views.py\n"
   ]
  },
  {
   "cell_type": "markdown",
   "metadata": {},
   "source": [
    "__ /app/templates/simple.html __"
   ]
  },
  {
   "cell_type": "markdown",
   "metadata": {},
   "source": [
    "\n",
    "``` \n",
    "\n",
    "<html>\n",
    "\t<body>\n",
    "\t\t<h1>Welcome to your lucky number generator!</h1>\n",
    "\t\t<p>Your lucky number is:</p>\n",
    "\t\t<p>5</p>\n",
    "\t</body>\n",
    "</html>```"
   ]
  },
  {
   "cell_type": "markdown",
   "metadata": {},
   "source": [
    "Output: \n",
    "    <html>\n",
    "\t<body>\n",
    "\t\t<h1>Welcome to your lucky number generator!</h1>\n",
    "\t\t<p>Your lucky number is:</p>\n",
    "\t\t<p>5</p>\n",
    "\t</body>\n",
    "</html>"
   ]
  },
  {
   "cell_type": "markdown",
   "metadata": {},
   "source": [
    "``` /app/views.py \n",
    "\n",
    "from app import app\n",
    "from flask import render_template\n",
    " \n",
    "@app.route('/')\n",
    "def lucky_static():\n",
    "    return render_template('simple.html')```"
   ]
  },
  {
   "cell_type": "markdown",
   "metadata": {},
   "source": [
    "``` ```"
   ]
  },
  {
   "cell_type": "markdown",
   "metadata": {},
   "source": [
    "### 3. Make static template dynamic "
   ]
  },
  {
   "cell_type": "markdown",
   "metadata": {},
   "source": [
    "\n",
    "``` \n",
    "\n",
    "<html>\n",
    "\t<body>\n",
    "\t\t<h1>Welcome to your lucky number generator!</h1>\n",
    "\t\t<p>Your lucky number is:</p>\n",
    "\t\t<p>{{ lucky_num }}</p>\n",
    "\t</body>\n",
    "</html>```"
   ]
  },
  {
   "cell_type": "markdown",
   "metadata": {},
   "source": [
    "{{ ... }} is used to put data generated for example in views.py to your html site  "
   ]
  },
  {
   "cell_type": "markdown",
   "metadata": {},
   "source": [
    "``` /app/views.py \n",
    "\n",
    "from app import app\n",
    "from flask import render_template\n",
    " \n",
    "@app.route('/')\n",
    "def lucky_static():\n",
    "    return render_template('simple.html', lucky_num=7)```"
   ]
  },
  {
   "cell_type": "markdown",
   "metadata": {},
   "source": [
    "lucky_num=7 is the first step to getting to a dynamic site, the variable is now used to store data in views.py and to display it in html\n",
    "\n",
    "For example you can set lucky_num to some random number "
   ]
  },
  {
   "cell_type": "markdown",
   "metadata": {},
   "source": [
    "``` /app/views.py \n",
    "\n",
    "from app import app\n",
    "from flask import render_template\n",
    "from random import randint\n",
    " \n",
    "@app.route('/')\n",
    "def lucky_static():\n",
    "    return render_template('simple.html', lucky_num= randint(1,100))\n",
    "```"
   ]
  },
  {
   "cell_type": "markdown",
   "metadata": {},
   "source": [
    "### 4. Adding max view"
   ]
  },
  {
   "cell_type": "markdown",
   "metadata": {},
   "source": [
    "``` /app/views.py \n",
    "\n",
    "from random import randint\n",
    "\n",
    "from app import app\n",
    "from flask import render_template\n",
    " \n",
    "@app.route('/')\n",
    "def lucky_static():\n",
    "    lucky_num = randint(1, 100)\n",
    "    return render_template('simple.html', lucky_num=lucky_num)\n",
    "    \n",
    "@app.route('/<max>/')  # if you type <your_url>/12, max is set to 12\n",
    "def lucky_max(max):\n",
    "    lucky_num = randint(1, int(max)) # sets random numbers to 1-max i.e 1-12\n",
    "    return render_template('simple.html', lucky_num=lucky_num)\n",
    "```"
   ]
  },
  {
   "cell_type": "markdown",
   "metadata": {},
   "source": [
    "### 5. Start game, template loop "
   ]
  },
  {
   "cell_type": "markdown",
   "metadata": {},
   "source": [
    "app/templates/game.html"
   ]
  },
  {
   "cell_type": "markdown",
   "metadata": {},
   "source": [
    "``` app/templates/game.html\n",
    "<html>\n",
    "\t<body>\n",
    "\t\t<h1>Welcome to the game!</h1>\n",
    "\t\t<p>The winning numbers...</p>\n",
    "\t\t<p>{% for num in game_nums %}{{ num }} {% endfor %}</p> \n",
    "\t</body>\n",
    "</html>\n",
    "```\n"
   ]
  },
  {
   "cell_type": "markdown",
   "metadata": {},
   "source": [
    "/app/views.py"
   ]
  },
  {
   "cell_type": "markdown",
   "metadata": {},
   "source": [
    "``` app/views.py\n",
    "@app.route('/game/')\n",
    "def game():\n",
    "\tgame_nums = []\n",
    "\twhile len(game_nums) < 5:\n",
    "\t\tn = randint(1, 10)\n",
    "\t\tif not n in game_nums:\n",
    "\t\t\tgame_nums.append(n)\n",
    " \treturn render_template('game.html', game_nums = game_nums)\n",
    "```"
   ]
  },
  {
   "cell_type": "markdown",
   "metadata": {},
   "source": [
    "### 6. Create a base template "
   ]
  },
  {
   "cell_type": "markdown",
   "metadata": {},
   "source": [
    "app/template/base.html"
   ]
  },
  {
   "cell_type": "markdown",
   "metadata": {},
   "source": [
    "``` app/template/base.html\n",
    "\t<body>\n",
    "\t\t{% block content %}{% endblock %}\n",
    "\t</body>\n",
    "</html>\n",
    "```"
   ]
  },
  {
   "cell_type": "markdown",
   "metadata": {},
   "source": [
    "app/template/game.html"
   ]
  },
  {
   "cell_type": "markdown",
   "metadata": {},
   "source": [
    "``` app/template/game.html\n",
    "{% extends 'base.html' %}\n",
    "\n",
    "{% block content %}\n",
    "\t<h1>Welcome to the game!</h1>\n",
    "\t<p>The winning numbers...</p>\n",
    "\t<p>{% for num in game_nums %}{{ num }} {% endfor %}</p>\n",
    "{% endblock %}\n",
    "```"
   ]
  },
  {
   "cell_type": "markdown",
   "metadata": {},
   "source": [
    "app/template/simple.html"
   ]
  },
  {
   "cell_type": "markdown",
   "metadata": {},
   "source": [
    "```app/template/simple.html\n",
    "\n",
    "{% extends \"base.html\" %}\n",
    "\t\t\n",
    "{% block content %}\n",
    "\t<h1>Welcome to your lucky number generator!</h1>\n",
    "\t<p>Your lucky number is:</p>\n",
    "\t<p>{{ lucky_num }}</p>\n",
    "{% endblock %}\n",
    "```"
   ]
  },
  {
   "cell_type": "markdown",
   "metadata": {},
   "source": [
    "### 7. Use Bootstrap "
   ]
  },
  {
   "cell_type": "markdown",
   "metadata": {},
   "source": [
    "app/template/base.html"
   ]
  },
  {
   "cell_type": "markdown",
   "metadata": {},
   "source": [
    "```app/template/base.html\n",
    "<html>\n",
    "\t<head>\n",
    "\t\t<!-- Latest compiled and minified CSS -->\n",
    "\t\t\t<link rel=\"stylesheet\" href=\"https://maxcdn.bootstrapcdn.com/bootstrap/3.3.6/css/bootstrap.min.css\" integrity=\"sha384-1q8mTJOASx8j1Au+a5WDVnPi2lkFfwwEAa8hDDdjZlpLegxhjVME1fgjWPGmkzs7\" crossorigin=\"anonymous\">\n",
    "\n",
    "\t\t\t<!-- Latest compiled and minified JavaScript -->\n",
    "\t\t\t<script src=\"https://maxcdn.bootstrapcdn.com/bootstrap/3.3.6/js/bootstrap.min.js\" integrity=\"sha384-0mSbJDEHialfmuBBQP6A4Qrprq5OVfW37PRR3j5ELqxss1yVqOtnepnHVP9aJ7xS\" crossorigin=\"anonymous\"></script>\n",
    "\t</head>\n",
    "\n",
    "\t<body>\n",
    "\t\t{% block content %}{% endblock %}\n",
    "\t</body>\n",
    "</html>\n",
    "```"
   ]
  },
  {
   "cell_type": "markdown",
   "metadata": {},
   "source": [
    "### 8. Make blocks in base and other html "
   ]
  },
  {
   "cell_type": "markdown",
   "metadata": {},
   "source": [
    "app/template/base.html"
   ]
  },
  {
   "cell_type": "markdown",
   "metadata": {},
   "source": [
    "```app/template/base.html\n",
    "<html>\n",
    "\t<head>\n",
    "            <!-- Latest compiled and minified CSS -->\n",
    "\t\t\t<link rel=\"stylesheet\" href=\"https://maxcdn.bootstrapcdn.com/bootstrap/3.3.6/css/bootstrap.min.css\" integrity=\"sha384-1q8mTJOASx8j1Au+a5WDVnPi2lkFfwwEAa8hDDdjZlpLegxhjVME1fgjWPGmkzs7\" crossorigin=\"anonymous\">\n",
    "\n",
    "\t\t\t<!-- Latest compiled and minified JavaScript -->\n",
    "\t\t\t<script src=\"https://maxcdn.bootstrapcdn.com/bootstrap/3.3.6/js/bootstrap.min.js\" integrity=\"sha384-0mSbJDEHialfmuBBQP6A4Qrprq5OVfW37PRR3j5ELqxss1yVqOtnepnHVP9aJ7xS\" crossorigin=\"anonymous\"></script>\n",
    "\t</head>\n",
    "\t<body class=\"container\">\n",
    "\t\t<div class=\"span9\">\n",
    "\t\t\t{% block page_title %}{% endblock %}\n",
    "\t\t\t{% block content %}{% endblock %}\n",
    "\t\t</div>\n",
    "\t</body>\n",
    "</html>\n",
    "```"
   ]
  },
  {
   "cell_type": "markdown",
   "metadata": {},
   "source": [
    "Use blocks for navigation, footer, caroussel etc. "
   ]
  },
  {
   "cell_type": "markdown",
   "metadata": {},
   "source": [
    "app/template/game.html"
   ]
  },
  {
   "cell_type": "markdown",
   "metadata": {},
   "source": [
    "``` app/template/base.html\n",
    "\n",
    "{% extends 'base.html' %}\n",
    "\n",
    "{% block page_title %}\n",
    "\t<h1>Welcome to the game!</h1>\n",
    "{% endblock %}\n",
    "\n",
    "{% block content %}\n",
    "\t<p>The winning numbers...</p>\n",
    "\t<p>{% for num in game_nums %}{{ num }} {% endfor %}</p>\n",
    "{% endblock %}\n",
    "```"
   ]
  },
  {
   "cell_type": "markdown",
   "metadata": {},
   "source": [
    "### Requirements "
   ]
  },
  {
   "cell_type": "markdown",
   "metadata": {},
   "source": [
    "In Order to start using form, installing of python packages is needed. What and in which version, is set in rquirements.txt"
   ]
  },
  {
   "cell_type": "markdown",
   "metadata": {},
   "source": [
    "requirements.txt"
   ]
  },
  {
   "cell_type": "markdown",
   "metadata": {},
   "source": [
    "``` requirements.txt\n",
    "\n",
    "Flask==0.10.1\n",
    "Flask-WTF==0.9.2\n",
    "Jinja2==2.7.2\n",
    "MarkupSafe==0.18\n",
    "WTForms==1.0.5\n",
    "Werkzeug==0.11.4\n",
    "argparse==1.2.1\n",
    "itsdangerous==0.24\n",
    "wsgiref==0.1.2\n",
    "```"
   ]
  },
  {
   "cell_type": "markdown",
   "metadata": {},
   "source": [
    "In your console / virtual envireonment do: sudo pip install -r requirements.txt"
   ]
  },
  {
   "cell_type": "markdown",
   "metadata": {},
   "source": []
  },
  {
   "cell_type": "markdown",
   "metadata": {
    "collapsed": true
   },
   "source": [
    "### Config.py "
   ]
  },
  {
   "cell_type": "markdown",
   "metadata": {},
   "source": [
    "app/forms.py"
   ]
  },
  {
   "cell_type": "markdown",
   "metadata": {},
   "source": [
    "``` app/forms.py\n",
    "CSRF_ENABLED = True\n",
    "SECRET_KEY = 'mars-needs-lawnmowers'\n",
    "```"
   ]
  },
  {
   "cell_type": "markdown",
   "metadata": {},
   "source": [
    "### Forms.py"
   ]
  },
  {
   "cell_type": "markdown",
   "metadata": {},
   "source": [
    "app/forms.py"
   ]
  },
  {
   "cell_type": "markdown",
   "metadata": {
    "collapsed": true
   },
   "source": [
    "``` app/forms.py\n",
    "from flask.ext.wtf import Form\n",
    "from wtforms import TextField, BooleanField\n",
    "from wtforms.validators import Required\n",
    "\n",
    "class GetLucky(Form):\n",
    "\tnumbers = TextField('numbers')\n",
    "```"
   ]
  },
  {
   "cell_type": "markdown",
   "metadata": {},
   "source": [
    "app/forms.py "
   ]
  },
  {
   "cell_type": "markdown",
   "metadata": {
    "collapsed": true
   },
   "source": [
    "``` app/forms.py \n",
    "@app.route('/nums/', methods=['GET', 'POST'])\n",
    "def get_nums():\n",
    "    form = GetLucky()\n",
    "    return render_template('get_lucky.html', form=form)\n",
    "```"
   ]
  },
  {
   "cell_type": "markdown",
   "metadata": {},
   "source": []
  },
  {
   "cell_type": "markdown",
   "metadata": {},
   "source": [
    "app/templates/get_lucky.html"
   ]
  },
  {
   "cell_type": "markdown",
   "metadata": {
    "collapsed": true
   },
   "source": [
    "``` app/templates/get_lucky.html\n",
    "{% extends \"base.html\" %}\n",
    "\n",
    "{% block title %}\n",
    "\t<h1>Lucky number game!</h1>\n",
    "{% endblock %}\n",
    "\n",
    "{% block content %}\n",
    "\t<form action=\"\" method=\"post\" name=\"get_lucky\">\n",
    "\t\t{{ form.hidden_tag() }}\n",
    "\t\t<label for=\"numbers\">Lucky numbers:</label>\n",
    "\t\t{{ form.numbers }}</br>\n",
    "\t\t<input type=\"submit\">\n",
    "\t</form>\n",
    "{% endblock %}\n",
    "```"
   ]
  },
  {
   "cell_type": "markdown",
   "metadata": {
    "collapsed": true
   },
   "source": []
  },
  {
   "cell_type": "markdown",
   "metadata": {
    "collapsed": true
   },
   "source": []
  },
  {
   "cell_type": "markdown",
   "metadata": {
    "collapsed": true
   },
   "source": []
  },
  {
   "cell_type": "markdown",
   "metadata": {
    "collapsed": true
   },
   "source": []
  }
 ],
 "metadata": {
  "kernelspec": {
   "display_name": "Python 3",
   "language": "python",
   "name": "python3"
  },
  "language_info": {
   "codemirror_mode": {
    "name": "ipython",
    "version": 3
   },
   "file_extension": ".py",
   "mimetype": "text/x-python",
   "name": "python",
   "nbconvert_exporter": "python",
   "pygments_lexer": "ipython3",
   "version": "3.4.2"
  }
 },
 "nbformat": 4,
 "nbformat_minor": 0
}
