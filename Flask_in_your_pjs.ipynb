{
 "cells": [
  {
   "cell_type": "markdown",
   "metadata": {},
   "source": [
    "# Learn flask in your pjs\n",
    "\n",
    "A class for PyLadies remote by [Katie Cunningham](https://twitter.com/kcunning?lang=de)(@akcunning)\n",
    "\n",
    "[YouTube: Learn Flask in your pjs - part1](https://www.youtube.com/watch?v=GjFt-dKlnbE&ebc=ANyPxKrZO4f2Ba54EC5Hkx38EQHt3VH-CezGADKnfLsbzWxADm4T-O6DcHvlIwCOO8VnZdXX6ShbuvN_tr1QR0g-sYbEF1J2ow)\n"
   ]
  },
  {
   "cell_type": "markdown",
   "metadata": {},
   "source": [
    "Code on Github: \n",
    "[flask-class-c9](https://github.com/kcunning/flask-class-c9.git)\n",
    "\n",
    "```git checkout master \n",
    "git checkout <123456>\n",
    "git clean -fd ```\n",
    "\n",
    "1. git checkout 19357a7 - basic app\n",
    "2. git checkout bd250bd1 - app structured in folders \n",
    "3. git checkout c6bee92 - using html templates\n",
    "4. \n",
    "\n",
    "\n"
   ]
  },
  {
   "cell_type": "markdown",
   "metadata": {
    "collapsed": true
   },
   "source": [
    "## 1. Very simple Flask App"
   ]
  },
  {
   "cell_type": "markdown",
   "metadata": {},
   "source": [
    "*run.py*"
   ]
  },
  {
   "cell_type": "markdown",
   "metadata": {
    "collapsed": true
   },
   "source": [
    "```\n",
    "import os\n",
    "\n",
    "from flask import Flask\n",
    "app = Flask(__name__)\n",
    "\n",
    "@app.route(\"/\")\n",
    "def hello():\n",
    "    return \"Hello World!\"\n",
    "\n",
    "if __name__ == \"__main__\":\n",
    "    # The next two lines are JUST for c9\n",
    "    port = int(os.getenv('PORT', 8080))\n",
    "    host = os.getenv('IP', '0.0.0.0')\n",
    "    # If you're running on your local, you can nuke stuff in the parens: app.run()\n",
    "    app.run(port=port, host=host)```"
   ]
  },
  {
   "cell_type": "markdown",
   "metadata": {
    "collapsed": true
   },
   "source": [
    "## 2. Templates and Variables"
   ]
  },
  {
   "cell_type": "markdown",
   "metadata": {},
   "source": [
    "First we structure the app in folders: "
   ]
  },
  {
   "cell_type": "markdown",
   "metadata": {},
   "source": [
    "__run.py__"
   ]
  },
  {
   "cell_type": "markdown",
   "metadata": {},
   "source": [
    "```\n",
    "import os\n",
    "\n",
    "# Using a folder to hold the app\n",
    "from app import app\n",
    "\n",
    "# Host and port are unique to Cloud 9. You don't need these on your local,\n",
    "# or if using other services\n",
    "app.run(\n",
    "    host=os.getenv('IP', '0.0.0.0'),\n",
    "    port=int(os.getenv('PORT', 8080)),\n",
    "    debug=True)```"
   ]
  },
  {
   "cell_type": "markdown",
   "metadata": {},
   "source": [
    "/app \n",
    ".\n",
    "├── __init__.py\n",
    "└── views.py```\n"
   ]
  },
  {
   "cell_type": "markdown",
   "metadata": {},
   "source": [
    "____init__.py__"
   ]
  },
  {
   "cell_type": "markdown",
   "metadata": {},
   "source": [
    "```\n",
    "from flask import Flask\n",
    "\n",
    "app = Flask(__name__)\n",
    "from app import views```"
   ]
  },
  {
   "cell_type": "markdown",
   "metadata": {},
   "source": [
    "__views.py__"
   ]
  },
  {
   "cell_type": "markdown",
   "metadata": {},
   "source": [
    "``` \n",
    "from app import app\n",
    " \n",
    "@app.route('/')\n",
    "def lucky_static():\n",
    "    return \"Your lucky number is 7\"\n",
    "```"
   ]
  },
  {
   "cell_type": "markdown",
   "metadata": {},
   "source": [
    "This is basically the same Hello World app, but now the files are better structured.  "
   ]
  },
  {
   "cell_type": "raw",
   "metadata": {},
   "source": [
    "2. "
   ]
  }
 ],
 "metadata": {
  "kernelspec": {
   "display_name": "Python 3",
   "language": "python",
   "name": "python3"
  },
  "language_info": {
   "codemirror_mode": {
    "name": "ipython",
    "version": 3
   },
   "file_extension": ".py",
   "mimetype": "text/x-python",
   "name": "python",
   "nbconvert_exporter": "python",
   "pygments_lexer": "ipython3",
   "version": "3.5.1"
  }
 },
 "nbformat": 4,
 "nbformat_minor": 0
}
