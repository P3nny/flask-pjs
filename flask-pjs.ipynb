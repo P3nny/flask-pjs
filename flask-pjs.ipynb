{
 "cells": [
  {
   "cell_type": "markdown",
   "metadata": {},
   "source": [
    "# Learn flask in your pjs\n",
    "\n",
    "A class for PyLadies remote by [Katie Cunningham](https://twitter.com/kcunning?lang=de)(@akcunning)\n",
    "\n",
    "[YouTube: Learn Flask in your pjs - part1](https://www.youtube.com/watch?v=GjFt-dKlnbE&ebc=ANyPxKrZO4f2Ba54EC5Hkx38EQHt3VH-CezGADKnfLsbzWxADm4T-O6DcHvlIwCOO8VnZdXX6ShbuvN_tr1QR0g-sYbEF1J2ow)\n"
   ]
  },
  {
   "cell_type": "code",
   "execution_count": null,
   "metadata": {
    "collapsed": true
   },
   "outputs": [],
   "source": [
    "## 1. Very simple Flask App"
   ]
  },
  {
   "cell_type": "code",
   "execution_count": null,
   "metadata": {
    "collapsed": true
   },
   "outputs": [],
   "source": [
    "import os\n",
    "\n",
    "from flask import Flask\n",
    "app = Flask(__name__)\n",
    "\n",
    "@app.route(\"/\")\n",
    "def hello():\n",
    "    return \"Hello World!\"\n",
    "\n",
    "if __name__ == \"__main__\":\n",
    "    # The next two lines are JUST for c9\n",
    "    port = int(os.getenv('PORT', 8080))\n",
    "    host = os.getenv('IP', '0.0.0.0')\n",
    "    # If you're running on your local, you can nuke stuff in the parens: app.run()\n",
    "    app.run(port=port, host=host)"
   ]
  },
  {
   "cell_type": "code",
   "execution_count": null,
   "metadata": {
    "collapsed": true
   },
   "outputs": [],
   "source": []
  }
 ],
 "metadata": {
  "kernelspec": {
   "display_name": "Python 3",
   "language": "python",
   "name": "python3"
  },
  "language_info": {
   "codemirror_mode": {
    "name": "ipython",
    "version": 3
   },
   "file_extension": ".py",
   "mimetype": "text/x-python",
   "name": "python",
   "nbconvert_exporter": "python",
   "pygments_lexer": "ipython3",
   "version": "3.5.1"
  }
 },
 "nbformat": 4,
 "nbformat_minor": 0
}
